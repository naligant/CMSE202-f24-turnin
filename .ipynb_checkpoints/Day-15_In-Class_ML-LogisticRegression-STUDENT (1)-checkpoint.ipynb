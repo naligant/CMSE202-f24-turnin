{
 "cells": [
  {
   "cell_type": "markdown",
   "metadata": {},
   "source": [
    "# In-Class Assignment: Machine Learning; classification with logistic regression\n",
    "# Day 15\n",
    "# CMSE 202\n",
    "<img src=\"https://i.ibb.co/vv36b1d/supervised-workflow-machine-learning.png\" width=700px>\n",
    "\n",
    "\n",
    "### Agenda for today's class\n",
    "\n",
    "</p>\n",
    "\n",
    "1. [Review of Pre-Class assignment](#review)\n",
    "1. [Training vs Testing](#train-test)\n",
    "1. [Logistic Regression](#logit)"
   ]
  },
  {
   "cell_type": "markdown",
   "metadata": {},
   "source": [
    "### <p style=\"text-align: right;\"> &#9989; **Prajeeth Naliganti** </p>\n",
    "#### <p style=\"text-align: right;\"> &#9989; Alex, Willy, Day</p>"
   ]
  },
  {
   "cell_type": "markdown",
   "metadata": {},
   "source": [
    "## Imports for the day"
   ]
  },
  {
   "cell_type": "code",
   "execution_count": 1,
   "metadata": {},
   "outputs": [],
   "source": [
    "import pandas as pd\n",
    "import matplotlib.pyplot as plt\n",
    "import numpy as np\n",
    "from sklearn.model_selection import train_test_split\n",
    "import statsmodels.api as sm\n",
    "from sklearn import metrics"
   ]
  },
  {
   "cell_type": "markdown",
   "metadata": {},
   "source": [
    "---\n",
    "<a id=\"review\"></a>\n",
    "## 1. Review of Pre-Class assignment\n",
    "\n",
    "We'll discussion any questions that came up as a class."
   ]
  },
  {
   "cell_type": "markdown",
   "metadata": {},
   "source": [
    "----\n",
    "<a id=\"train-test\"></a>\n",
    "## 2. Training vs Testing\n",
    "\n",
    "As you learned in the pre-class, classification is an ML process that maps features of an input data set to class labels. Classification is a **supervised** learning approach where example data is used to train the data. We typically divide the data used to train and evaluate the classifier (the result model) into three sets\n",
    "\n",
    "- training set\n",
    "- testing set\n",
    "- validation set"
   ]
  },
  {
   "cell_type": "markdown",
   "metadata": {},
   "source": [
    "&#9989; **Do This:** As a group, discuss what these three sets represent. It might help to review these terms on the web. Put your answers down below:"
   ]
  },
  {
   "cell_type": "markdown",
   "metadata": {},
   "source": [
    "<font size=+3>&#9998;</font> Training set is: the data used to train the model"
   ]
  },
  {
   "cell_type": "markdown",
   "metadata": {},
   "source": [
    "<font size=+3>&#9998;</font> Testing set is: the data used to test the model after it has been trained"
   ]
  },
  {
   "cell_type": "markdown",
   "metadata": {},
   "source": [
    "\n",
    "<font size=+3>&#9998;</font> Validation set is: the data that is used to evaluate the performance of the model and fine tune it"
   ]
  },
  {
   "cell_type": "markdown",
   "metadata": {},
   "source": [
    "#### Defining the features and building the model\n",
    "\n",
    "If you review the image at the top of the notebook, you might notice that one of the first steps in machine learning is to go from \"raw data\" into a set of \"features\" and \"labels\". Extracting features from our data can sometimes be one of the trickier parts of the process and also one of the most important ones. We have to think carefully about exactly what the \"right\" features are for training our machine learning algorithm and, when possible, it is advantageous to find ways to reduce the total number of features we are trying to model. Once we define our features, we can build our model."
   ]
  },
  {
   "cell_type": "markdown",
   "metadata": {},
   "source": [
    "### 2.1 Working with data\n",
    "\n",
    "There is a common data set used to work with classification called the breast cancer data set. It is actually available in `sklearn` but rather than working with the dataset that's been cleaned up for us, let's continue to flex your data wrangling skills and look at the original data. You'll need to download two data files:\n",
    "\n",
    "* `breast-cancer-wisconsin.data`\n",
    "* `breast-cancer-wisconsin.names`\n",
    "\n",
    "The data are in \".data\" and the \".names\" describes that data. \n",
    "\n",
    "You can download the files from here:\n",
    "\n",
    "`https://raw.githubusercontent.com/msu-cmse-courses/cmse202-supplemental-data/main/data/breast-cancer-wisconsin.data`\n",
    "\n",
    "`https://raw.githubusercontent.com/msu-cmse-courses/cmse202-supplemental-data/main/data/breast-cancer-wisconsin.names`\n",
    "\n",
    "&#9989; **Do This:** Read in the data, label the columns based on the .names file. Look at the dtypes, anything unusual? Why?"
   ]
  },
  {
   "cell_type": "code",
   "execution_count": 2,
   "metadata": {},
   "outputs": [
    {
     "name": "stdout",
     "output_type": "stream",
     "text": [
      "  % Total    % Received % Xferd  Average Speed   Time    Time     Time  Current\n",
      "                                 Dload  Upload   Total   Spent    Left  Speed\n",
      "100 19889  100 19889    0     0   436k      0 --:--:-- --:--:-- --:--:--  441k\n",
      "  % Total    % Received % Xferd  Average Speed   Time    Time     Time  Current\n",
      "                                 Dload  Upload   Total   Spent    Left  Speed\n",
      "100  5657  100  5657    0     0  46803      0 --:--:-- --:--:-- --:--:-- 46752\n"
     ]
    }
   ],
   "source": [
    "!curl https://raw.githubusercontent.com/msu-cmse-courses/cmse202-supplemental-data/main/data/breast-cancer-wisconsin.data --output breast-cancer-wisconsin.data\n",
    "!curl https://raw.githubusercontent.com/msu-cmse-courses/cmse202-supplemental-data/main/data/breast-cancer-wisconsin.names --output breast-cancer-wisconsin.names"
   ]
  },
  {
   "cell_type": "markdown",
   "metadata": {},
   "source": [
    "<font size=+3>&#9998;</font> nuclei, is an object even though it is supposed to be an integer"
   ]
  },
  {
   "cell_type": "code",
   "execution_count": 3,
   "metadata": {},
   "outputs": [
    {
     "data": {
      "text/plain": [
       "code                  int64\n",
       "thickness             int64\n",
       "cell_size             int64\n",
       "cell_shape            int64\n",
       "marginal_adhesion     int64\n",
       "epit_cell_size        int64\n",
       "nuclei               object\n",
       "chromatin             int64\n",
       "nucleoli              int64\n",
       "mitoses               int64\n",
       "class                 int64\n",
       "dtype: object"
      ]
     },
     "execution_count": 3,
     "metadata": {},
     "output_type": "execute_result"
    }
   ],
   "source": [
    "# put your code here\n",
    "names = ['code', 'thickness', 'cell_size', 'cell_shape', 'marginal_adhesion', 'epit_cell_size', 'nuclei', 'chromatin', 'nucleoli', 'mitoses', 'class']\n",
    "data = pd.read_csv(\"breast-cancer-wisconsin.data\", delimiter=',', header=None, names=names)\n",
    "data.dtypes"
   ]
  },
  {
   "cell_type": "markdown",
   "metadata": {},
   "source": [
    "&#9989; **Do This:** Can you identify what the problem is? If so, can you provide a DataFrame with just the rows that are causing the problem? There are lots of ways to do this so talk it out with your group. If you get stuck, talk with an instructor, so that you can move on to the next part of the assignment without spending too much time here."
   ]
  },
  {
   "cell_type": "code",
   "execution_count": 4,
   "metadata": {},
   "outputs": [
    {
     "name": "stdout",
     "output_type": "stream",
     "text": [
      "Non-integer value found in row 23:\n",
      "code                 1057013\n",
      "thickness                  8\n",
      "cell_size                  4\n",
      "cell_shape                 5\n",
      "marginal_adhesion          1\n",
      "epit_cell_size             2\n",
      "nuclei                     ?\n",
      "chromatin                  7\n",
      "nucleoli                   3\n",
      "mitoses                    1\n",
      "class                      4\n",
      "Name: 23, dtype: object\n",
      "Non-integer value found in row 40:\n",
      "code                 1096800\n",
      "thickness                  6\n",
      "cell_size                  6\n",
      "cell_shape                 6\n",
      "marginal_adhesion          9\n",
      "epit_cell_size             6\n",
      "nuclei                     ?\n",
      "chromatin                  7\n",
      "nucleoli                   8\n",
      "mitoses                    1\n",
      "class                      2\n",
      "Name: 40, dtype: object\n",
      "Non-integer value found in row 139:\n",
      "code                 1183246\n",
      "thickness                  1\n",
      "cell_size                  1\n",
      "cell_shape                 1\n",
      "marginal_adhesion          1\n",
      "epit_cell_size             1\n",
      "nuclei                     ?\n",
      "chromatin                  2\n",
      "nucleoli                   1\n",
      "mitoses                    1\n",
      "class                      2\n",
      "Name: 139, dtype: object\n",
      "Non-integer value found in row 145:\n",
      "code                 1184840\n",
      "thickness                  1\n",
      "cell_size                  1\n",
      "cell_shape                 3\n",
      "marginal_adhesion          1\n",
      "epit_cell_size             2\n",
      "nuclei                     ?\n",
      "chromatin                  2\n",
      "nucleoli                   1\n",
      "mitoses                    1\n",
      "class                      2\n",
      "Name: 145, dtype: object\n",
      "Non-integer value found in row 158:\n",
      "code                 1193683\n",
      "thickness                  1\n",
      "cell_size                  1\n",
      "cell_shape                 2\n",
      "marginal_adhesion          1\n",
      "epit_cell_size             3\n",
      "nuclei                     ?\n",
      "chromatin                  1\n",
      "nucleoli                   1\n",
      "mitoses                    1\n",
      "class                      2\n",
      "Name: 158, dtype: object\n",
      "Non-integer value found in row 164:\n",
      "code                 1197510\n",
      "thickness                  5\n",
      "cell_size                  1\n",
      "cell_shape                 1\n",
      "marginal_adhesion          1\n",
      "epit_cell_size             2\n",
      "nuclei                     ?\n",
      "chromatin                  3\n",
      "nucleoli                   1\n",
      "mitoses                    1\n",
      "class                      2\n",
      "Name: 164, dtype: object\n",
      "Non-integer value found in row 235:\n",
      "code                 1241232\n",
      "thickness                  3\n",
      "cell_size                  1\n",
      "cell_shape                 4\n",
      "marginal_adhesion          1\n",
      "epit_cell_size             2\n",
      "nuclei                     ?\n",
      "chromatin                  3\n",
      "nucleoli                   1\n",
      "mitoses                    1\n",
      "class                      2\n",
      "Name: 235, dtype: object\n",
      "Non-integer value found in row 249:\n",
      "code                 169356\n",
      "thickness                 3\n",
      "cell_size                 1\n",
      "cell_shape                1\n",
      "marginal_adhesion         1\n",
      "epit_cell_size            2\n",
      "nuclei                    ?\n",
      "chromatin                 3\n",
      "nucleoli                  1\n",
      "mitoses                   1\n",
      "class                     2\n",
      "Name: 249, dtype: object\n",
      "Non-integer value found in row 275:\n",
      "code                 432809\n",
      "thickness                 3\n",
      "cell_size                 1\n",
      "cell_shape                3\n",
      "marginal_adhesion         1\n",
      "epit_cell_size            2\n",
      "nuclei                    ?\n",
      "chromatin                 2\n",
      "nucleoli                  1\n",
      "mitoses                   1\n",
      "class                     2\n",
      "Name: 275, dtype: object\n",
      "Non-integer value found in row 292:\n",
      "code                 563649\n",
      "thickness                 8\n",
      "cell_size                 8\n",
      "cell_shape                8\n",
      "marginal_adhesion         1\n",
      "epit_cell_size            2\n",
      "nuclei                    ?\n",
      "chromatin                 6\n",
      "nucleoli                 10\n",
      "mitoses                   1\n",
      "class                     4\n",
      "Name: 292, dtype: object\n",
      "Non-integer value found in row 294:\n",
      "code                 606140\n",
      "thickness                 1\n",
      "cell_size                 1\n",
      "cell_shape                1\n",
      "marginal_adhesion         1\n",
      "epit_cell_size            2\n",
      "nuclei                    ?\n",
      "chromatin                 2\n",
      "nucleoli                  1\n",
      "mitoses                   1\n",
      "class                     2\n",
      "Name: 294, dtype: object\n",
      "Non-integer value found in row 297:\n",
      "code                 61634\n",
      "thickness                5\n",
      "cell_size                4\n",
      "cell_shape               3\n",
      "marginal_adhesion        1\n",
      "epit_cell_size           2\n",
      "nuclei                   ?\n",
      "chromatin                2\n",
      "nucleoli                 3\n",
      "mitoses                  1\n",
      "class                    2\n",
      "Name: 297, dtype: object\n",
      "Non-integer value found in row 315:\n",
      "code                 704168\n",
      "thickness                 4\n",
      "cell_size                 6\n",
      "cell_shape                5\n",
      "marginal_adhesion         6\n",
      "epit_cell_size            7\n",
      "nuclei                    ?\n",
      "chromatin                 4\n",
      "nucleoli                  9\n",
      "mitoses                   1\n",
      "class                     2\n",
      "Name: 315, dtype: object\n",
      "Non-integer value found in row 321:\n",
      "code                 733639\n",
      "thickness                 3\n",
      "cell_size                 1\n",
      "cell_shape                1\n",
      "marginal_adhesion         1\n",
      "epit_cell_size            2\n",
      "nuclei                    ?\n",
      "chromatin                 3\n",
      "nucleoli                  1\n",
      "mitoses                   1\n",
      "class                     2\n",
      "Name: 321, dtype: object\n",
      "Non-integer value found in row 411:\n",
      "code                 1238464\n",
      "thickness                  1\n",
      "cell_size                  1\n",
      "cell_shape                 1\n",
      "marginal_adhesion          1\n",
      "epit_cell_size             1\n",
      "nuclei                     ?\n",
      "chromatin                  2\n",
      "nucleoli                   1\n",
      "mitoses                    1\n",
      "class                      2\n",
      "Name: 411, dtype: object\n",
      "Non-integer value found in row 617:\n",
      "code                 1057067\n",
      "thickness                  1\n",
      "cell_size                  1\n",
      "cell_shape                 1\n",
      "marginal_adhesion          1\n",
      "epit_cell_size             1\n",
      "nuclei                     ?\n",
      "chromatin                  1\n",
      "nucleoli                   1\n",
      "mitoses                    1\n",
      "class                      2\n",
      "Name: 617, dtype: object\n"
     ]
    }
   ],
   "source": [
    "# put your code here\n",
    "# Check for non-integer values in the 'nucleoli' column\n",
    "for i in range(len(data)):\n",
    "    try:\n",
    "        if not isinstance(int(data['nuclei'][i]), int):\n",
    "            print(data.iloc[i])\n",
    "    except ValueError:\n",
    "        print(f\"Non-integer value found in row {i}:\")\n",
    "        print(data.iloc[i])"
   ]
  },
  {
   "cell_type": "markdown",
   "metadata": {},
   "source": [
    "As you hopefully discussed, we happen to have some rows with missing data values. So, as we've seen previously, we have an imputation problem.\n",
    "\n",
    "&#9989; **Do This:**  Write code to solve this missing data problem and say what you did.\n",
    "\n",
    "By the way, there is an argument `na_values` that you can provide to `read_csv` that will mark a list of characters as if they were `np.nan` using `na_values`, which is pretty darn convenient. Using that will help when importing the data for classification. "
   ]
  },
  {
   "cell_type": "code",
   "execution_count": 5,
   "metadata": {},
   "outputs": [
    {
     "data": {
      "text/plain": [
       "code                 int64\n",
       "thickness            int64\n",
       "cell_size            int64\n",
       "cell_shape           int64\n",
       "marginal_adhesion    int64\n",
       "epit_cell_size       int64\n",
       "nuclei               int64\n",
       "chromatin            int64\n",
       "nucleoli             int64\n",
       "mitoses              int64\n",
       "class                int64\n",
       "dtype: object"
      ]
     },
     "execution_count": 5,
     "metadata": {},
     "output_type": "execute_result"
    }
   ],
   "source": [
    "# put your code here\n",
    "data['nuclei'] = data[\"nuclei\"].replace('?', np.nan)\n",
    "data['nuclei'] = pd.to_numeric(data['nuclei'])\n",
    "\n",
    "data['nuclei'] = data['nuclei'].fillna(data['nuclei'].mean())\n",
    "\n",
    "data['nuclei'] = data['nuclei'].astype(np.int64)\n",
    "data.dtypes"
   ]
  },
  {
   "cell_type": "markdown",
   "metadata": {},
   "source": [
    "----\n",
    "## 2.2 : Splitting the dataset for model into training and testing sets\n",
    "Now that's we've loaded up and cleaned up the data, let's split the data in a training set and final testing set. We want to randomly select 75% of the data for training and 25% of the data for testing.\n",
    "\n",
    "Also, **you should turn the `class_labels` into 0 (currently 2, for benign) and 1 (currently 4, for malignant) as the classifier we are going to use (Logisitic Regression) predicts valuse between 0 and 1.**"
   ]
  },
  {
   "cell_type": "markdown",
   "metadata": {},
   "source": [
    "&#9989; **Do This**: You will need to come up with a way to split the data into separate training and testing sets (we will leave the validation set out for now).  Make sure you keep the feature vectors and classes together.  \n",
    "\n",
    "**BIG HINT**: This is a very common step in machine learning, and there exists a function to do this for you in the `sklearn` library called `train_test_split`. From the [documentation](https://scikit-learn.org/stable/modules/generated/sklearn.model_selection.train_test_split.html), you find that takes the features and class labels as input and returns\n",
    "4 outputs:\n",
    "- 2 feature sets (one for training and one for testing)\n",
    "- 2 class labels sets (the corresponding one for training and for testing)\n",
    "\n",
    "Use `train_test_split` to split your data into a training set and a testing set that correspond to 75% and 25% of your data respectively. To ensure that some of the provided code below will work, you should use the variable names `train_vectors`, `test_vectors`, `train_labels`, and `test_labels` to store your results. Check the length of the resulting output to make sure the splits follow what you expected.\n",
    "\n",
    "**Important Note**: You'll need to break up your dataframe into a set of labels and a set of features before you do the train-test splitting. You also want to make sure you \"features\" don't include any columns that don't make sense to use as features (i.e. avoid including columns that would not be expected to have any meaningful influence on the labels)"
   ]
  },
  {
   "cell_type": "code",
   "execution_count": 6,
   "metadata": {},
   "outputs": [],
   "source": [
    "# Put your code here\n",
    "from sklearn.model_selection import train_test_split\n",
    "\n",
    "#get the independent variables\n",
    "X = data.iloc[:, :-1]\n",
    "\n",
    "#clean the dependent variable\n",
    "for i in range(len(data['class'])):\n",
    "    if data['class'][i] == 2:\n",
    "        data['class'][i] = 0\n",
    "    elif data['class'][i] == 4:\n",
    "        data['class'][i] = 1\n",
    "y = data['class']\n",
    "X_train, X_test, y_train, y_test = train_test_split(X, y, test_size=0.25, train_size=0.75)"
   ]
  },
  {
   "cell_type": "markdown",
   "metadata": {},
   "source": [
    "&#9989; **Question**: Why do we need to separate our samples into a training and testing set. Why can't we just use all the data for both? Wouldn't that make it work better?"
   ]
  },
  {
   "cell_type": "markdown",
   "metadata": {},
   "source": [
    "<font size=+3>&#9998;</font> No, because the model will be trained on all the data so once it gets tested it would already know the answers to the data and it will show up as a 100 percent accurate"
   ]
  },
  {
   "cell_type": "markdown",
   "metadata": {},
   "source": [
    "----\n",
    "<a id=\"logit\"></a>\n",
    "## 3 Logistic Regression\n",
    "\n",
    "In the pre-class, you watched a video explaining some of the aspects of the logistic regression. The full details on logistic regression require deeper study, but we can gain some insight from looking at the function we are trying to fit to our data. Plot out the curve to the following equation, called the **logistic function**:\n",
    "\n",
    "$$ f(x) = \\frac{e^{x}} {1+e^{x} }  \\equiv \\frac{1}{1+e^{-x} } $$\n",
    "\n",
    "&#9989; **Do This**: Create a logistic function and then make the plot of $f(x)$ for $x$ over the range -6 to 6."
   ]
  },
  {
   "cell_type": "code",
   "execution_count": 7,
   "metadata": {},
   "outputs": [
    {
     "data": {
      "text/plain": [
       "Text(0.5, 1.0, 'logistic function')"
      ]
     },
     "execution_count": 7,
     "metadata": {},
     "output_type": "execute_result"
    },
    {
     "data": {
      "image/png": "[encoded data removed]",
      "text/plain": [
       "<Figure size 640x480 with 1 Axes>"
      ]
     },
     "metadata": {},
     "output_type": "display_data"
    }
   ],
   "source": [
    "# put your code here\n",
    "import math\n",
    "\n",
    "x = np.arange(-6, 7)\n",
    "y_ = []\n",
    "for i in x:\n",
    "    y_.append(1/(1+math.exp(i)))\n",
    "\n",
    "plt.plot(x, y_)\n",
    "plt.xlabel('x')\n",
    "plt.ylabel('y')\n",
    "plt.title('logistic function')"
   ]
  },
  {
   "cell_type": "markdown",
   "metadata": {},
   "source": [
    "What is interesting about that curve is that all values of x are mapped into the range for y of 0.0-1.0. Assuming you have a binary classifier, that is one that only has two class labels, that is the mapping you want: all combination of features map into the two class labels 0, or 1. Moreover, the graph looks a lot like a [cumulative probability distribution](https://en.wikipedia.org/wiki/Cumulative_distribution_function). The probability that a set of features is of class 1 is 1 to the right and 0 to the left. As you watched in the pre-class video, this is the basis for logistic regression.\n",
    "\n",
    "It's considered a regression because the \"x\" in our logisitic function is actually going to be a regression equation, such that\n",
    "\n",
    "$$ fn= b_{0} + b_{1}x_{1} + b_{2}x_{2} + \\ldots  $$\n",
    "\n",
    "for as many terms as we like and the new logistic function\n",
    "\n",
    "$$ f(x) = \\frac{e^{fn(x))}} {1+e^{fn(x)} }  \\equiv \\frac{1}{1+e^{-fn(x)} } $$\n",
    "\n",
    "Logisitic classification tries to find the values for the parameters $b_{i}$ that gives maximal performance on training, and hopefully testing. Let's let `statsmodels` do that.\n",
    "\n",
    "We are going to use all the training data from above and train a logistic regression. It is similar to what we did before with regular regression.\n",
    "\n",
    "Note, very importantly, the use of `sm.add_constant` on the training vectors. We talked about that when we did OLS in statsmodels. That column of constant is what the $b_{0}$ or intercept will train against. We need that column to get an intercept. (Note that this code requires that you used `train_labels` and `train_vectors` when you did the train-test split earlier)"
   ]
  },
  {
   "cell_type": "code",
   "execution_count": 8,
   "metadata": {},
   "outputs": [
    {
     "name": "stdout",
     "output_type": "stream",
     "text": [
      "Optimization terminated successfully.\n",
      "         Current function value: 0.082619\n",
      "         Iterations 9\n",
      "                           Logit Regression Results                           \n",
      "==============================================================================\n",
      "Dep. Variable:                  class   No. Observations:                  699\n",
      "Model:                          Logit   Df Residuals:                      688\n",
      "Method:                           MLE   Df Model:                           10\n",
      "Date:                Wed, 23 Oct 2024   Pseudo R-squ.:                  0.8717\n",
      "Time:                        12:02:54   Log-Likelihood:                -57.751\n",
      "converged:                       True   LL-Null:                       -450.26\n",
      "Covariance Type:            nonrobust   LLR p-value:                3.415e-162\n",
      "=====================================================================================\n",
      "                        coef    std err          z      P>|z|      [0.025      0.975]\n",
      "-------------------------------------------------------------------------------------\n",
      "const                -9.8035      1.250     -7.844      0.000     -12.253      -7.354\n",
      "code               1.078e-07   5.42e-07      0.199      0.842   -9.55e-07    1.17e-06\n",
      "thickness             0.5319      0.133      4.001      0.000       0.271       0.792\n",
      "cell_size             0.0077      0.189      0.041      0.967      -0.362       0.377\n",
      "cell_shape            0.3275      0.209      1.564      0.118      -0.083       0.738\n",
      "marginal_adhesion     0.2385      0.116      2.064      0.039       0.012       0.465\n",
      "epit_cell_size        0.0654      0.152      0.432      0.666      -0.232       0.362\n",
      "nuclei                0.4162      0.092      4.541      0.000       0.237       0.596\n",
      "chromatin             0.4090      0.157      2.613      0.009       0.102       0.716\n",
      "nucleoli              0.1498      0.103      1.453      0.146      -0.052       0.352\n",
      "mitoses               0.5452      0.305      1.788      0.074      -0.052       1.143\n",
      "=====================================================================================\n"
     ]
    }
   ],
   "source": [
    "logit_model = sm.Logit(y, sm.add_constant(X))\n",
    "result = logit_model.fit()\n",
    "print(result.summary() )"
   ]
  },
  {
   "cell_type": "markdown",
   "metadata": {},
   "source": [
    "The \"Pseudo R-squ\" is the equivalent (mostly) of the R-squared value in Linear regression that we looked for before. It ranges from 0 (poor fit) to 1 (perfect fit). The P values under \"P > |z|\" are measures of significance. The null hypothesis is that the restricted model (say a constant value for `fn`) performs better and a low p-value suggests that we can reject this hypothesis and prefer the full model over the null model (I.e., LOW $P$-VALUE IS GOOD). This is similar to the F-test for linear regression.\n",
    "\n",
    "&#9989; **Do This**: Based on the results from above, remove the low-performing columns and then recreate the training and testing sets and run it again. Display the summary."
   ]
  },
  {
   "cell_type": "code",
   "execution_count": 9,
   "metadata": {},
   "outputs": [
    {
     "name": "stdout",
     "output_type": "stream",
     "text": [
      "Optimization terminated successfully.\n",
      "         Current function value: 0.106006\n",
      "         Iterations 9\n",
      "                           Logit Regression Results                           \n",
      "==============================================================================\n",
      "Dep. Variable:                  class   No. Observations:                  524\n",
      "Model:                          Logit   Df Residuals:                      517\n",
      "Method:                           MLE   Df Model:                            6\n",
      "Date:                Wed, 23 Oct 2024   Pseudo R-squ.:                  0.8370\n",
      "Time:                        12:02:55   Log-Likelihood:                -55.547\n",
      "converged:                       True   LL-Null:                       -340.84\n",
      "Covariance Type:            nonrobust   LLR p-value:                5.129e-120\n",
      "=====================================================================================\n",
      "                        coef    std err          z      P>|z|      [0.025      0.975]\n",
      "-------------------------------------------------------------------------------------\n",
      "const                -7.5043      0.822     -9.134      0.000      -9.115      -5.894\n",
      "cell_size             0.4274      0.152      2.817      0.005       0.130       0.725\n",
      "marginal_adhesion     0.2105      0.111      1.892      0.059      -0.008       0.429\n",
      "nuclei                0.4531      0.085      5.318      0.000       0.286       0.620\n",
      "chromatin             0.4352      0.175      2.486      0.013       0.092       0.778\n",
      "nucleoli              0.2417      0.102      2.373      0.018       0.042       0.441\n",
      "mitoses               0.5232      0.198      2.644      0.008       0.135       0.911\n",
      "=====================================================================================\n"
     ]
    }
   ],
   "source": [
    "# put your code here\n",
    "low_performing_columns = ['thickness', 'cell_shape', 'epit_cell_size', 'class', 'code']\n",
    "\n",
    "X = data.drop(columns=low_performing_columns)\n",
    "X = sm.add_constant(X)\n",
    "X_train, X_test, y_train, y_test = train_test_split(X, y, test_size=0.25, train_size=0.75)\n",
    "logit_model = sm.Logit(y_train, X_train)\n",
    "result = logit_model.fit()\n",
    "print(result.summary() )"
   ]
  },
  {
   "cell_type": "markdown",
   "metadata": {},
   "source": [
    "&#9989; **Question:** How do the fits of the full model and the reduced model compare? What evidence are you using to make compare these two fits?"
   ]
  },
  {
   "cell_type": "markdown",
   "metadata": {},
   "source": [
    "<font size=+3>&#9998;</font> The fits of the reduced model are much more accurate than the fits of the full model. This is because more features that directly impact the dependent variable are chosen to train the model."
   ]
  },
  {
   "cell_type": "markdown",
   "metadata": {},
   "source": [
    "### 3.1 How'd it go?\n",
    "\n",
    "There are a number of ways that we can check the performance of our model and we will continue new ways throughout the semester. The major difference in the standard statistics approach and supervised learning approaches is that we test our models using the data that we held out: \"the testing data.\" \n",
    "\n",
    "That is, we will use our classifier model to make predictions from the test features and we can then compare those predictions to actual test labels. To test accuracy, we can use the output of the `.fit()` method of the model to predict how well the classifier works on the test data (the data it was not trained on). Conveniently that is the `.predict()` method and, again, we use it on the result of the `.fit()`. \n",
    "\n",
    "**Note:** The output from `.predict()` is not a 0/1 value as the test labels are, but rather a fraction between 0 and 1 indicating how likely each entry is to be one class or another. We can make the assumption that anything greater than 0.5 would be a 1 class and anything less than 0.5 would be a 0 class. \n",
    "\n",
    "&#9989; **Do This**: do the following:\n",
    "- use the `.predict()` method (look up the documentation as necessary) to create the predicted labels using the test input\n",
    "- convert the output of the `.predict()` method to the 0/1 class values of the test labels\n",
    "- print the resulting predicted class values of the test labels"
   ]
  },
  {
   "cell_type": "code",
   "execution_count": 10,
   "metadata": {},
   "outputs": [
    {
     "data": {
      "text/plain": [
       "132    1\n",
       "614    0\n",
       "34     0\n",
       "405    0\n",
       "311    0\n",
       "      ..\n",
       "465    1\n",
       "19     0\n",
       "150    0\n",
       "516    0\n",
       "205    1\n",
       "Name: class, Length: 524, dtype: int64"
      ]
     },
     "execution_count": 10,
     "metadata": {},
     "output_type": "execute_result"
    }
   ],
   "source": [
    "y_train"
   ]
  },
  {
   "cell_type": "code",
   "execution_count": 11,
   "metadata": {},
   "outputs": [
    {
     "ename": "ValueError",
     "evalue": "shapes (524,7) and (524,7) not aligned: 7 (dim 1) != 524 (dim 0)",
     "output_type": "error",
     "traceback": [
      "\u001b[0;31m---------------------------------------------------------------------------\u001b[0m",
      "\u001b[0;31mValueError\u001b[0m                                Traceback (most recent call last)",
      "Cell \u001b[0;32mIn[11], line 2\u001b[0m\n\u001b[1;32m      1\u001b[0m \u001b[38;5;66;03m# put your code here\u001b[39;00m\n\u001b[0;32m----> 2\u001b[0m \u001b[43mlogit_model\u001b[49m\u001b[38;5;241;43m.\u001b[39;49m\u001b[43mpredict\u001b[49m\u001b[43m(\u001b[49m\u001b[43mX_train\u001b[49m\u001b[43m)\u001b[49m\n",
      "File \u001b[0;32m~/anaconda3/lib/python3.10/site-packages/statsmodels/discrete/discrete_model.py:543\u001b[0m, in \u001b[0;36mBinaryModel.predict\u001b[0;34m(self, params, exog, which, linear, offset)\u001b[0m\n\u001b[1;32m    540\u001b[0m \u001b[38;5;28;01mif\u001b[39;00m exog \u001b[38;5;129;01mis\u001b[39;00m \u001b[38;5;28;01mNone\u001b[39;00m:\n\u001b[1;32m    541\u001b[0m     exog \u001b[38;5;241m=\u001b[39m \u001b[38;5;28mself\u001b[39m\u001b[38;5;241m.\u001b[39mexog\n\u001b[0;32m--> 543\u001b[0m linpred \u001b[38;5;241m=\u001b[39m \u001b[43mnp\u001b[49m\u001b[38;5;241;43m.\u001b[39;49m\u001b[43mdot\u001b[49m\u001b[43m(\u001b[49m\u001b[43mexog\u001b[49m\u001b[43m,\u001b[49m\u001b[43m \u001b[49m\u001b[43mparams\u001b[49m\u001b[43m)\u001b[49m \u001b[38;5;241m+\u001b[39m offset\n\u001b[1;32m    545\u001b[0m \u001b[38;5;28;01mif\u001b[39;00m which \u001b[38;5;241m==\u001b[39m \u001b[38;5;124m\"\u001b[39m\u001b[38;5;124mmean\u001b[39m\u001b[38;5;124m\"\u001b[39m:\n\u001b[1;32m    546\u001b[0m     \u001b[38;5;28;01mreturn\u001b[39;00m \u001b[38;5;28mself\u001b[39m\u001b[38;5;241m.\u001b[39mcdf(linpred)\n",
      "File \u001b[0;32m<__array_function__ internals>:200\u001b[0m, in \u001b[0;36mdot\u001b[0;34m(*args, **kwargs)\u001b[0m\n",
      "\u001b[0;31mValueError\u001b[0m: shapes (524,7) and (524,7) not aligned: 7 (dim 1) != 524 (dim 0)"
     ]
    }
   ],
   "source": [
    "# put your code here\n",
    "logit_model.predict(X_train)"
   ]
  },
  {
   "cell_type": "markdown",
   "metadata": {},
   "source": [
    "One of the first metrics we will use in determining how well a machine learning model is working is the \"accuracy score\", which compares the predictions our model made for the test labels and the actual test labels. This score is one of many metrics we can use and is included in `sklearn.metrics` as (surprise) `accuracy_score()`. Here's the [documentation](https://scikit-learn.org/stable/modules/generated/sklearn.metrics.accuracy_score.html#sklearn.metrics.accuracy_score) on `accuracy_score`.\n",
    "\n",
    "&#9989; **Do This**: Using the predicted 0/1 labels you just created:\n",
    "- Use the `sklearn.metrics` we imported at the top and run the `accuracy_score` on the 0/1 predicted label and the test labels.\n",
    "- Print your accuracy result"
   ]
  },
  {
   "cell_type": "code",
   "execution_count": null,
   "metadata": {},
   "outputs": [],
   "source": [
    "# put your code here\n"
   ]
  },
  {
   "cell_type": "markdown",
   "metadata": {},
   "source": [
    "&#9989; **Question:** How well did your model predict the test class labels? Given what you learned in the pre-class assignment about false positives and false negatives, what other questions should we ask about the accuracy of our model?"
   ]
  },
  {
   "cell_type": "markdown",
   "metadata": {},
   "source": [
    "<font size=+3>&#9998;</font> Do This - Erase the contents of this cell and replace it with your answer to the above question!  (double-click on this text to edit this cell, and hit shift+enter to save the text)"
   ]
  },
  {
   "cell_type": "markdown",
   "metadata": {},
   "source": [
    "-----\n",
    "### Congratulations, we're done!\n",
    "\n",
    "Now, you just need to submit this assignment by uploading it to the course <a href=\"https://d2l.msu.edu/\">Desire2Learn</a> web page for today's submission folder (Don't forget to add your names in the first cell).\n"
   ]
  },
  {
   "cell_type": "markdown",
   "metadata": {},
   "source": [
    "&#169; Copyright 2024,  Department of Computational Mathematics, Science and Engineering at Michigan State University\n",
    "\n",
    "<!-- 9/16/2024 -->"
   ]
  },
  {
   "cell_type": "markdown",
   "metadata": {},
   "source": []
  }
 ],
 "metadata": {
  "interpreter": {
   "hash": "31f2aee4e71d21fbe5cf8b01ff0e069b9275f58929596ceb00d14d90e3e16cd6"
  },
  "kernelspec": {
   "display_name": "Python 3.11 (default)",
   "language": "python",
   "name": "python3"
  },
  "language_info": {
   "codemirror_mode": {
    "name": "ipython",
    "version": 3
   },
   "file_extension": ".py",
   "mimetype": "text/x-python",
   "name": "python",
   "nbconvert_exporter": "python",
   "pygments_lexer": "ipython3",
   "version": "3.11.9"
  },
  "widgets": {
   "application/vnd.jupyter.widget-state+json": {
    "state": {},
    "version_major": 2,
    "version_minor": 0
   }
  }
 },
 "nbformat": 4,
 "nbformat_minor": 4
}
